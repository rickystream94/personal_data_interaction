{
 "cells": [
  {
   "cell_type": "markdown",
   "metadata": {},
   "source": [
    "### Load Libraries"
   ]
  },
  {
   "cell_type": "code",
   "execution_count": 99,
   "metadata": {
    "collapsed": true
   },
   "outputs": [],
   "source": [
    "# Load dependencies\n",
    "import pandas as pd\n",
    "import numpy as np\n",
    "import json\n",
    "import os"
   ]
  },
  {
   "cell_type": "markdown",
   "metadata": {},
   "source": [
    "### Read the txt with total users file"
   ]
  },
  {
   "cell_type": "code",
   "execution_count": 2,
   "metadata": {
    "collapsed": false
   },
   "outputs": [
    {
     "data": {
      "text/html": [
       "<div>\n",
       "<table border=\"1\" class=\"dataframe\">\n",
       "  <thead>\n",
       "    <tr style=\"text-align: right;\">\n",
       "      <th></th>\n",
       "      <th>nickname</th>\n",
       "      <th>DateStart</th>\n",
       "      <th>GamificationStart</th>\n",
       "    </tr>\n",
       "  </thead>\n",
       "  <tbody>\n",
       "    <tr>\n",
       "      <th>1</th>\n",
       "      <td>TheArk</td>\n",
       "      <td>2017-04-11</td>\n",
       "      <td>0</td>\n",
       "    </tr>\n",
       "    <tr>\n",
       "      <th>2</th>\n",
       "      <td>Federico</td>\n",
       "      <td>2017-04-11</td>\n",
       "      <td>1</td>\n",
       "    </tr>\n",
       "    <tr>\n",
       "      <th>3</th>\n",
       "      <td>evakuruczleki</td>\n",
       "      <td>2017-04-11</td>\n",
       "      <td>0</td>\n",
       "    </tr>\n",
       "    <tr>\n",
       "      <th>4</th>\n",
       "      <td>Shan</td>\n",
       "      <td>2017-04-11</td>\n",
       "      <td>1</td>\n",
       "    </tr>\n",
       "    <tr>\n",
       "      <th>5</th>\n",
       "      <td>Giada</td>\n",
       "      <td>2017-04-11</td>\n",
       "      <td>0</td>\n",
       "    </tr>\n",
       "    <tr>\n",
       "      <th>7</th>\n",
       "      <td>myrto</td>\n",
       "      <td>2017-04-11</td>\n",
       "      <td>0</td>\n",
       "    </tr>\n",
       "    <tr>\n",
       "      <th>8</th>\n",
       "      <td>ARDecre</td>\n",
       "      <td>2017-04-11</td>\n",
       "      <td>1</td>\n",
       "    </tr>\n",
       "    <tr>\n",
       "      <th>10</th>\n",
       "      <td>Shani</td>\n",
       "      <td>2017-04-11</td>\n",
       "      <td>1</td>\n",
       "    </tr>\n",
       "    <tr>\n",
       "      <th>11</th>\n",
       "      <td>MarioStefano</td>\n",
       "      <td>2017-04-11</td>\n",
       "      <td>0</td>\n",
       "    </tr>\n",
       "    <tr>\n",
       "      <th>12</th>\n",
       "      <td>Ricky</td>\n",
       "      <td>2017-04-12</td>\n",
       "      <td>1</td>\n",
       "    </tr>\n",
       "    <tr>\n",
       "      <th>15</th>\n",
       "      <td>Redevil</td>\n",
       "      <td>2017-04-12</td>\n",
       "      <td>0</td>\n",
       "    </tr>\n",
       "    <tr>\n",
       "      <th>16</th>\n",
       "      <td>billfill</td>\n",
       "      <td>2017-04-13</td>\n",
       "      <td>1</td>\n",
       "    </tr>\n",
       "    <tr>\n",
       "      <th>17</th>\n",
       "      <td>benni</td>\n",
       "      <td>2017-04-16</td>\n",
       "      <td>0</td>\n",
       "    </tr>\n",
       "    <tr>\n",
       "      <th>18</th>\n",
       "      <td>RickyDevelop</td>\n",
       "      <td>2017-04-19</td>\n",
       "      <td>1</td>\n",
       "    </tr>\n",
       "    <tr>\n",
       "      <th>19</th>\n",
       "      <td>balhbdhd</td>\n",
       "      <td>2017-04-24</td>\n",
       "      <td>0</td>\n",
       "    </tr>\n",
       "    <tr>\n",
       "      <th>20</th>\n",
       "      <td>FedeCornalba</td>\n",
       "      <td>2017-03-22</td>\n",
       "      <td>0</td>\n",
       "    </tr>\n",
       "  </tbody>\n",
       "</table>\n",
       "</div>"
      ],
      "text/plain": [
       "         nickname   DateStart  GamificationStart\n",
       "1          TheArk  2017-04-11                  0\n",
       "2        Federico  2017-04-11                  1\n",
       "3   evakuruczleki  2017-04-11                  0\n",
       "4            Shan  2017-04-11                  1\n",
       "5           Giada  2017-04-11                  0\n",
       "7           myrto  2017-04-11                  0\n",
       "8         ARDecre  2017-04-11                  1\n",
       "10          Shani  2017-04-11                  1\n",
       "11   MarioStefano  2017-04-11                  0\n",
       "12          Ricky  2017-04-12                  1\n",
       "15        Redevil  2017-04-12                  0\n",
       "16       billfill  2017-04-13                  1\n",
       "17          benni  2017-04-16                  0\n",
       "18   RickyDevelop  2017-04-19                  1\n",
       "19       balhbdhd  2017-04-24                  0\n",
       "20   FedeCornalba  2017-03-22                  0"
      ]
     },
     "execution_count": 2,
     "metadata": {},
     "output_type": "execute_result"
    }
   ],
   "source": [
    "# Read all users\n",
    "df_all_users = pd.read_csv('data/install_log.csv', names=['nickname', 'DateStart','GamificationStart'])\n",
    "# Keep only the last installation to drop duplicate or truplicates\n",
    "df_all_users = df_all_users.drop_duplicates(subset='nickname', keep='last')\n",
    "df_all_users"
   ]
  },
  {
   "cell_type": "markdown",
   "metadata": {},
   "source": [
    "### Read the JSON files from directory"
   ]
  },
  {
   "cell_type": "code",
   "execution_count": 3,
   "metadata": {
    "collapsed": true
   },
   "outputs": [],
   "source": [
    "# Read the directory with the data and save file_names in a list\n",
    "path_to_json_files = 'data/'\n",
    "json_files = [single_json for single_json in os.listdir(path_to_json_files) if single_json.endswith('.json')]"
   ]
  },
  {
   "cell_type": "code",
   "execution_count": 4,
   "metadata": {
    "collapsed": false
   },
   "outputs": [
    {
     "data": {
      "text/plain": [
       "['Phrasebook_Dump_aggelos_NOGamification_2017_04_25.json',\n",
       " 'Phrasebook_Dump_ARDecre_YESGamification_2017_04_23.json',\n",
       " 'Phrasebook_Dump_Bill Bilalis_NOGamification_2017_04_22.json',\n",
       " 'Phrasebook_Dump_FedeCornalba_NOGamification_2017_04_11.json',\n",
       " 'Phrasebook_Dump_FedeCornalba_YESGamification_2017_04_17.json',\n",
       " 'Phrasebook_Dump_Federico_YESGamification_2017_04_26.json',\n",
       " 'Phrasebook_Dump_Giada_NOGamification_2017_04_22.json',\n",
       " 'Phrasebook_Dump_MarioStefano_NOGamification_2017_04_23.json',\n",
       " 'Phrasebook_Dump_myrto_NOGamification_2017_04_22.json',\n",
       " 'Phrasebook_Dump_TheArk_NOGamification_2017_04_21.json']"
      ]
     },
     "execution_count": 4,
     "metadata": {},
     "output_type": "execute_result"
    }
   ],
   "source": [
    "json_files"
   ]
  },
  {
   "cell_type": "markdown",
   "metadata": {},
   "source": [
    "Keep filenames as reference for later feeding"
   ]
  },
  {
   "cell_type": "markdown",
   "metadata": {},
   "source": [
    "### Usefull functions"
   ]
  },
  {
   "cell_type": "code",
   "execution_count": 107,
   "metadata": {
    "collapsed": false
   },
   "outputs": [],
   "source": [
    "# Create a function that gets the date from filename title\n",
    "def getEndDate(s):\n",
    "    first_split = s.split('_')[4]\n",
    "    second_split = s.split('_')[5]\n",
    "    third_split = s.split('_')[6][:-5]\n",
    "    return first_split + '-' + second_split + '-' + third_split"
   ]
  },
  {
   "cell_type": "code",
   "execution_count": 5,
   "metadata": {
    "collapsed": true
   },
   "outputs": [],
   "source": [
    "# Create a function that gets the YES/NO Gamification from filename title\n",
    "def getGamification(s):\n",
    "    first_split = s.split('_')[3]\n",
    "    return first_split[:-12]"
   ]
  },
  {
   "cell_type": "code",
   "execution_count": 6,
   "metadata": {
    "collapsed": true
   },
   "outputs": [],
   "source": [
    "# Create a function that gets the nickname from filename title\n",
    "def getNickname(s):\n",
    "    first_split = s.split('_')[2]\n",
    "    return first_split"
   ]
  },
  {
   "cell_type": "code",
   "execution_count": 7,
   "metadata": {
    "collapsed": true
   },
   "outputs": [],
   "source": [
    "# Create a function that gets the date of a datetime string\n",
    "def getDate(s):\n",
    "    first_split = s.split(' ')[0]\n",
    "    return first_split"
   ]
  },
  {
   "cell_type": "code",
   "execution_count": 8,
   "metadata": {
    "collapsed": true
   },
   "outputs": [],
   "source": [
    "# Calculate the duration of use in days for each user\n",
    "def getDuration(created, closed):\n",
    "    return closed-created"
   ]
  },
  {
   "cell_type": "code",
   "execution_count": 9,
   "metadata": {
    "collapsed": true
   },
   "outputs": [],
   "source": [
    "# Create a function that gets the hour of a datetime string\n",
    "def getHour(s):\n",
    "    first_split = s.split(' ')[1]\n",
    "    return int(first_split.split(':')[0])"
   ]
  },
  {
   "cell_type": "markdown",
   "metadata": {},
   "source": [
    "### Read each file seperately"
   ]
  },
  {
   "cell_type": "code",
   "execution_count": 109,
   "metadata": {
    "collapsed": false
   },
   "outputs": [],
   "source": [
    "# Create function per user with nickname and gamification flagger parameter\n",
    "def loadUserInfo(nick,flagger):\n",
    "    for filename in json_files:\n",
    "        if getNickname(filename) == nick and getGamification(filename)== flagger:\n",
    "            with open('data/'+filename) as json_data:\n",
    "                d = json.load(json_data)\n",
    "\n",
    "                # Created unlocked badges pandas dataframe\n",
    "                unlocked_badges = [(badge['badgeName'],badge['createdOn']) for badge in d['badges'] for kk in badge.keys() if kk=='createdOn']\n",
    "                df_badges = pd.DataFrame(unlocked_badges,columns=['Name', 'Date'])\n",
    "\n",
    "                # Load phrasebook data into a pandas dataframe\n",
    "                df_phrasebook = pd.DataFrame(d['phrasebook'])  \n",
    "\n",
    "                # Load challenges data into a pandas dataframe\n",
    "                df_challenges = pd.DataFrame(d['challenges'])\n",
    "\n",
    "                # Load user data into a pandas dataframe\n",
    "                df_user = pd.DataFrame(d['user'])\n",
    "                df_user.columns = ['GamificationEnd', 'DateEnd', 'foreignLanguage', 'hasSwitchedVersion', 'level', 'motherLanguage', 'nickname', 'totalXP']\n",
    "                # Merge with the install_log file\n",
    "                df_user = pd.merge(df_user,df_all_users,on='nickname',how='inner')\n",
    "                # Now create a new column named year and store the values of the above function\n",
    "                # Change dateEnd\n",
    "                df_user['DateEnd']= getEndDate(filename)\n",
    "                df_user['DateEnd'] = pd.to_datetime(df_user['DateEnd'])\n",
    "                df_user['DateStart'] = pd.to_datetime(df_user['DateStart'])\n",
    "                df_user['daysUsed'] = df_user[['DateStart','DateEnd']].apply(lambda x: getDuration(*x), axis=1)\n",
    "                # Rearrange user dataframe \n",
    "                df_user = df_user[['nickname','motherLanguage','foreignLanguage','GamificationStart','GamificationEnd','hasSwitchedVersion', 'DateStart', 'DateEnd', 'daysUsed', 'totalXP', 'level']]\n",
    "            \n",
    "            return df_user, df_phrasebook, df_challenges, df_badges"
   ]
  },
  {
   "cell_type": "markdown",
   "metadata": {},
   "source": [
    "So when we want to reach a user's info, phrasebook, challenges table and badges table we should act adequately:\n",
    "   * **user info**: loadUserInfo(nickname, flagger)[0]\n",
    "   * **phrasebook**: loadUserInfo(nickname, flagger)[1]\n",
    "   * **challenges**: loadUserInfo(nickname, flagger)[2]\n",
    "   * **badges**: loadUserInfo(nickname, flagger)[3]"
   ]
  },
  {
   "cell_type": "markdown",
   "metadata": {},
   "source": [
    "### Check data for each user (examples)"
   ]
  },
  {
   "cell_type": "code",
   "execution_count": 110,
   "metadata": {
    "collapsed": false
   },
   "outputs": [
    {
     "data": {
      "text/html": [
       "<div>\n",
       "<table border=\"1\" class=\"dataframe\">\n",
       "  <thead>\n",
       "    <tr style=\"text-align: right;\">\n",
       "      <th></th>\n",
       "      <th>nickname</th>\n",
       "      <th>motherLanguage</th>\n",
       "      <th>foreignLanguage</th>\n",
       "      <th>GamificationStart</th>\n",
       "      <th>GamificationEnd</th>\n",
       "      <th>hasSwitchedVersion</th>\n",
       "      <th>DateStart</th>\n",
       "      <th>DateEnd</th>\n",
       "      <th>daysUsed</th>\n",
       "      <th>totalXP</th>\n",
       "      <th>level</th>\n",
       "    </tr>\n",
       "  </thead>\n",
       "  <tbody>\n",
       "    <tr>\n",
       "      <th>0</th>\n",
       "      <td>ARDecre</td>\n",
       "      <td>ITALIANO</td>\n",
       "      <td>INGLESE</td>\n",
       "      <td>1</td>\n",
       "      <td>1</td>\n",
       "      <td>0</td>\n",
       "      <td>2017-04-11</td>\n",
       "      <td>2017-04-23</td>\n",
       "      <td>12 days</td>\n",
       "      <td>10</td>\n",
       "      <td>0</td>\n",
       "    </tr>\n",
       "  </tbody>\n",
       "</table>\n",
       "</div>"
      ],
      "text/plain": [
       "  nickname motherLanguage foreignLanguage  GamificationStart  GamificationEnd  \\\n",
       "0  ARDecre       ITALIANO         INGLESE                  1                1   \n",
       "\n",
       "   hasSwitchedVersion  DateStart    DateEnd  daysUsed  totalXP  level  \n",
       "0                   0 2017-04-11 2017-04-23   12 days       10      0  "
      ]
     },
     "execution_count": 110,
     "metadata": {},
     "output_type": "execute_result"
    }
   ],
   "source": [
    "# If we want the user info for ARDecre WITH gamification we write \n",
    "loadUserInfo('ARDecre', 'YES')[0]"
   ]
  },
  {
   "cell_type": "code",
   "execution_count": 111,
   "metadata": {
    "collapsed": false
   },
   "outputs": [
    {
     "data": {
      "text/html": [
       "<div>\n",
       "<table border=\"1\" class=\"dataframe\">\n",
       "  <thead>\n",
       "    <tr style=\"text-align: right;\">\n",
       "      <th></th>\n",
       "      <th>archived</th>\n",
       "      <th>correctCount</th>\n",
       "      <th>createdOn</th>\n",
       "      <th>foreignLangString</th>\n",
       "      <th>id</th>\n",
       "      <th>motherLangString</th>\n",
       "    </tr>\n",
       "  </thead>\n",
       "  <tbody>\n",
       "    <tr>\n",
       "      <th>0</th>\n",
       "      <td>0</td>\n",
       "      <td>0</td>\n",
       "      <td>2017-04-11 10:14:54</td>\n",
       "      <td>自転車</td>\n",
       "      <td>1</td>\n",
       "      <td>bicicletta</td>\n",
       "    </tr>\n",
       "    <tr>\n",
       "      <th>1</th>\n",
       "      <td>0</td>\n",
       "      <td>1</td>\n",
       "      <td>2017-04-11 10:15:24</td>\n",
       "      <td>起こす</td>\n",
       "      <td>2</td>\n",
       "      <td>svegliare qualcuno</td>\n",
       "    </tr>\n",
       "    <tr>\n",
       "      <th>2</th>\n",
       "      <td>0</td>\n",
       "      <td>-1</td>\n",
       "      <td>2017-04-11 10:16:39</td>\n",
       "      <td>授業中（ちゅう）</td>\n",
       "      <td>3</td>\n",
       "      <td>durante la lezione</td>\n",
       "    </tr>\n",
       "  </tbody>\n",
       "</table>\n",
       "</div>"
      ],
      "text/plain": [
       "   archived  correctCount            createdOn foreignLangString  id  \\\n",
       "0         0             0  2017-04-11 10:14:54               自転車   1   \n",
       "1         0             1  2017-04-11 10:15:24               起こす   2   \n",
       "2         0            -1  2017-04-11 10:16:39          授業中（ちゅう）   3   \n",
       "\n",
       "     motherLangString  \n",
       "0          bicicletta  \n",
       "1  svegliare qualcuno  \n",
       "2  durante la lezione  "
      ]
     },
     "execution_count": 111,
     "metadata": {},
     "output_type": "execute_result"
    }
   ],
   "source": [
    "# If we want the phrasebook of Federico WITH gamification we write\n",
    "loadUserInfo('Federico', 'YES')[1]"
   ]
  },
  {
   "cell_type": "code",
   "execution_count": 112,
   "metadata": {
    "collapsed": false,
    "scrolled": true
   },
   "outputs": [
    {
     "data": {
      "text/html": [
       "<div>\n",
       "<table border=\"1\" class=\"dataframe\">\n",
       "  <thead>\n",
       "    <tr style=\"text-align: right;\">\n",
       "      <th></th>\n",
       "      <th>correct</th>\n",
       "      <th>createdOn</th>\n",
       "      <th>id</th>\n",
       "      <th>phraseId</th>\n",
       "    </tr>\n",
       "  </thead>\n",
       "  <tbody>\n",
       "    <tr>\n",
       "      <th>0</th>\n",
       "      <td>1</td>\n",
       "      <td>2017-04-18 15:49:14</td>\n",
       "      <td>1</td>\n",
       "      <td>2</td>\n",
       "    </tr>\n",
       "    <tr>\n",
       "      <th>1</th>\n",
       "      <td>0</td>\n",
       "      <td>2017-04-18 15:49:28</td>\n",
       "      <td>2</td>\n",
       "      <td>4</td>\n",
       "    </tr>\n",
       "    <tr>\n",
       "      <th>2</th>\n",
       "      <td>1</td>\n",
       "      <td>2017-04-18 15:49:35</td>\n",
       "      <td>3</td>\n",
       "      <td>2</td>\n",
       "    </tr>\n",
       "    <tr>\n",
       "      <th>3</th>\n",
       "      <td>0</td>\n",
       "      <td>2017-04-18 15:49:47</td>\n",
       "      <td>4</td>\n",
       "      <td>4</td>\n",
       "    </tr>\n",
       "    <tr>\n",
       "      <th>4</th>\n",
       "      <td>0</td>\n",
       "      <td>2017-04-18 17:47:35</td>\n",
       "      <td>5</td>\n",
       "      <td>5</td>\n",
       "    </tr>\n",
       "  </tbody>\n",
       "</table>\n",
       "</div>"
      ],
      "text/plain": [
       "   correct            createdOn  id  phraseId\n",
       "0        1  2017-04-18 15:49:14   1         2\n",
       "1        0  2017-04-18 15:49:28   2         4\n",
       "2        1  2017-04-18 15:49:35   3         2\n",
       "3        0  2017-04-18 15:49:47   4         4\n",
       "4        0  2017-04-18 17:47:35   5         5"
      ]
     },
     "execution_count": 112,
     "metadata": {},
     "output_type": "execute_result"
    }
   ],
   "source": [
    "# If we want the challenges of MarioStefano WITHOUT gamification we write\n",
    "loadUserInfo('MarioStefano','NO')[2]"
   ]
  },
  {
   "cell_type": "code",
   "execution_count": 91,
   "metadata": {
    "collapsed": false
   },
   "outputs": [
    {
     "data": {
      "text/html": [
       "<div>\n",
       "<table border=\"1\" class=\"dataframe\">\n",
       "  <thead>\n",
       "    <tr style=\"text-align: right;\">\n",
       "      <th></th>\n",
       "      <th>Name</th>\n",
       "      <th>Date</th>\n",
       "    </tr>\n",
       "  </thead>\n",
       "  <tbody>\n",
       "    <tr>\n",
       "      <th>0</th>\n",
       "      <td>Doing Good</td>\n",
       "      <td>2017-04-11 01:26:59</td>\n",
       "    </tr>\n",
       "    <tr>\n",
       "      <th>1</th>\n",
       "      <td>Keep Going</td>\n",
       "      <td>2017-04-11 01:25:04</td>\n",
       "    </tr>\n",
       "    <tr>\n",
       "      <th>2</th>\n",
       "      <td>Night Owl</td>\n",
       "      <td>2017-04-12 23:31:45</td>\n",
       "    </tr>\n",
       "    <tr>\n",
       "      <th>3</th>\n",
       "      <td>No Sleep</td>\n",
       "      <td>2017-04-11 01:23:17</td>\n",
       "    </tr>\n",
       "    <tr>\n",
       "      <th>4</th>\n",
       "      <td>Extreme Stamina</td>\n",
       "      <td>2017-04-11 01:26:10</td>\n",
       "    </tr>\n",
       "  </tbody>\n",
       "</table>\n",
       "</div>"
      ],
      "text/plain": [
       "              Name                 Date\n",
       "0       Doing Good  2017-04-11 01:26:59\n",
       "1       Keep Going  2017-04-11 01:25:04\n",
       "2        Night Owl  2017-04-12 23:31:45\n",
       "3         No Sleep  2017-04-11 01:23:17\n",
       "4  Extreme Stamina  2017-04-11 01:26:10"
      ]
     },
     "execution_count": 91,
     "metadata": {},
     "output_type": "execute_result"
    }
   ],
   "source": [
    "# If we want the badges of FedeCornalba WITH gamification we write\n",
    "loadUserInfo('FedeCornalba', 'YES')[3]"
   ]
  },
  {
   "cell_type": "markdown",
   "metadata": {},
   "source": [
    "### Start analysing"
   ]
  },
  {
   "cell_type": "markdown",
   "metadata": {},
   "source": [
    "We can analyze a frequency of activity both for adding words and practicing, by clearly distinguishing users with/without gamification.    \n",
    "Users with good data are:\n",
    "* TheArk\n",
    "* MarioStefano\n",
    "* FedeCornalba\n",
    "* GiadaConfortola"
   ]
  },
  {
   "cell_type": "markdown",
   "metadata": {},
   "source": [
    "We will start with FedeCornalba as he is the only complete user of our dataset."
   ]
  },
  {
   "cell_type": "code",
   "execution_count": 159,
   "metadata": {
    "collapsed": false
   },
   "outputs": [],
   "source": [
    "# Create a fuction that calculate the average input words on phrasebook per user\n",
    "def avg_input(nick, flagger):\n",
    "    if flagger == 'NO':\n",
    "        gamification = 'WITHOUT'\n",
    "    else:\n",
    "        gamification = 'WITH'\n",
    "    \n",
    "    # Crete helper df\n",
    "    df_helper = pd.DataFrame()\n",
    "    \n",
    "    if (loadUserInfo(nick,flagger)[0]['GamificationStart'].values[0]==0 and flagger == 'NO') or (loadUserInfo(nick,flagger)[0]['GamificationStart'].values[0]==1 and flagger == 'YES'):\n",
    "        # Split date in a seperate column\n",
    "        df_helper['Date']= loadUserInfo(nick,flagger)[1]['createdOn'].apply(lambda x: getDate(x))\n",
    "        df_helper['Date'] = pd.to_datetime(df_helper['Date'])\n",
    "\n",
    "        # Create a variable that stores the total number of days from first to the last input\n",
    "        diff = df_helper['Date'].iloc[-1] - df_helper['Date'].iloc[0]\n",
    "        diff = (diff / np.timedelta64(1, 'D')).astype(int)\n",
    "\n",
    "        # Count the average input per day without gamification\n",
    "        avg_input = len(df_helper)/float(diff)\n",
    "        return 'The average phrase input per day of user %s %s gamification is %.2f' % (nick, gamification, avg_input)\n",
    "    \n",
    "    if (loadUserInfo(nick,flagger)[0]['GamificationStart'].values[0]==0 and flagger == 'YES') or (loadUserInfo(nick,flagger)[0]['GamificationStart'].values[0]==1 and flagger == 'NO'):\n",
    "        # Subtract the new rows after the switch\n",
    "        big_index_list = list(loadUserInfo(nick,flagger)[1].index.values)\n",
    "        small_index_list = list(loadUserInfo(nick,'NO')[1].index.values) # This should be changed if there is a 1 gamification start\n",
    "        diff_index_list = [item for item in big_index_list if item not in small_index_list]\n",
    "        df_diff = loadUserInfo(nick,flagger)[1].ix[diff_index_list]\n",
    "        \n",
    "        # Split date in a seperate column\n",
    "        df_helper['Date']= df_diff['createdOn'].apply(lambda x: getDate(x))\n",
    "        df_helper['Date'] = pd.to_datetime(df_helper['Date'])\n",
    "\n",
    "        # Create a variable that stores the total number of days from first to the last input\n",
    "        diff = df_helper['Date'].iloc[-1] - df_helper['Date'].iloc[0]\n",
    "        diff = (diff / np.timedelta64(1, 'D')).astype(int)\n",
    "\n",
    "        # Count the average input per day without gamification\n",
    "        avg_input = len(df_helper)/float(diff)\n",
    "        return 'The average phrase input per day of user %s %s gamification is %.2f' % (nick, gamification, avg_input)"
   ]
  },
  {
   "cell_type": "markdown",
   "metadata": {},
   "source": [
    "The above function checks if the "
   ]
  },
  {
   "cell_type": "code",
   "execution_count": 160,
   "metadata": {
    "collapsed": false
   },
   "outputs": [
    {
     "data": {
      "text/plain": [
       "'The average phrase input per day of user FedeCornalba WITHOUT gamification is 1.29'"
      ]
     },
     "execution_count": 160,
     "metadata": {},
     "output_type": "execute_result"
    }
   ],
   "source": [
    "avg_input('FedeCornalba', 'NO')"
   ]
  },
  {
   "cell_type": "code",
   "execution_count": 161,
   "metadata": {
    "collapsed": false
   },
   "outputs": [
    {
     "data": {
      "text/plain": [
       "'The average phrase input per day of user FedeCornalba WITH gamification is 0.60'"
      ]
     },
     "execution_count": 161,
     "metadata": {},
     "output_type": "execute_result"
    }
   ],
   "source": [
    "avg_input('FedeCornalba', 'YES')"
   ]
  },
  {
   "cell_type": "markdown",
   "metadata": {},
   "source": [
    "## Discussion"
   ]
  },
  {
   "cell_type": "markdown",
   "metadata": {},
   "source": [
    "It is just an initial version of the analysis. I will further investigate and create plots at a later stage but first I need to know if I am in the correct path. Please add any comments for improvemets and later analysis here. As you see the tables are a bit complicated to analyze as we don't have enough data for a summary for all users. Play around by checking all JSON filenames. "
   ]
  }
 ],
 "metadata": {
  "hide_input": false,
  "kernelspec": {
   "display_name": "Python 2",
   "language": "python",
   "name": "python2"
  },
  "language_info": {
   "codemirror_mode": {
    "name": "ipython",
    "version": 2
   },
   "file_extension": ".py",
   "mimetype": "text/x-python",
   "name": "python",
   "nbconvert_exporter": "python",
   "pygments_lexer": "ipython2",
   "version": "2.7.12"
  }
 },
 "nbformat": 4,
 "nbformat_minor": 1
}
